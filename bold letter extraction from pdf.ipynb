{
 "cells": [
  {
   "cell_type": "code",
   "execution_count": 1,
   "metadata": {},
   "outputs": [
    {
     "name": "stdout",
     "output_type": "stream",
     "text": [
      "[{'cmd': 'java -jar E:\\\\anaconda\\\\envs\\\\obj\\\\lib\\\\site-packages\\\\pdf2jpg\\\\pdf2jpg.jar -i \"E:\\\\object detection\\\\sample.pdf\" -o \"E:\\\\object detection\\\\img\" -d 300 -p ALL', 'input_path': 'E:\\\\object detection\\\\sample.pdf', 'output_pdfpath': 'E:\\\\object detection\\\\img\\\\sample.pdf_dir', 'output_jpgfiles': ['E:\\\\object detection\\\\img\\\\sample.pdf_dir\\\\0_sample.pdf.jpg', 'E:\\\\object detection\\\\img\\\\sample.pdf_dir\\\\1_sample.pdf.jpg', 'E:\\\\object detection\\\\img\\\\sample.pdf_dir\\\\2_sample.pdf.jpg']}]\n"
     ]
    }
   ],
   "source": [
    "import os\n",
    "from pdf2jpg import pdf2jpg\n",
    "\n",
    "path = r'E:\\object detection'\n",
    "\n",
    "files = []\n",
    "# r=root, d=directories, f = files\n",
    "for r, d, f in os.walk(path):\n",
    "    for file in f:\n",
    "        if '.pdf' in file:\n",
    "            files.append(os.path.join(r, file))\n",
    "\n",
    "for f in files:\n",
    "    #print(f)\n",
    "    inputpath =(f)\n",
    "    outputpath = (r'E:\\object detection\\img')\n",
    "    result = pdf2jpg.convert_pdf2jpg(inputpath, outputpath, dpi=300, pages=\"ALL\")\n",
    "    print(result)"
   ]
  },
  {
   "cell_type": "code",
   "execution_count": 2,
   "metadata": {},
   "outputs": [
    {
     "data": {
      "text/plain": [
       "'E:\\\\object detection\\\\sample.pdf'"
      ]
     },
     "execution_count": 2,
     "metadata": {},
     "output_type": "execute_result"
    }
   ],
   "source": [
    "f"
   ]
  },
  {
   "cell_type": "code",
   "execution_count": 3,
   "metadata": {},
   "outputs": [
    {
     "name": "stdout",
     "output_type": "stream",
     "text": [
      "sample.pdf\n",
      "0_sample.pdf.jpg\n",
      "1_sample.pdf.jpg\n",
      "2_sample.pdf.jpg\n"
     ]
    }
   ],
   "source": [
    "import os\n",
    "from pdf2jpg import pdf2jpg\n",
    "\n",
    "path = r'E:\\object detection'\n",
    "\n",
    "files = []\n",
    "# r=root, d=directories, f = files\n",
    "for r, d, f in os.walk(path):\n",
    "    for file in f:\n",
    "        if '.pdf' in file:\n",
    "            print(file)\n",
    "            #files.append(os.path.join(r, file))\n",
    "            #print(files)"
   ]
  },
  {
   "cell_type": "code",
   "execution_count": 4,
   "metadata": {},
   "outputs": [
    {
     "name": "stdout",
     "output_type": "stream",
     "text": [
      "0\n"
     ]
    }
   ],
   "source": [
    "import shutil\n",
    "import os\n",
    "\n",
    "source = 'E:/object detection/img/sample.pdf_dir/'\n",
    "dest1 = r'E:/object detection/img/img/'\n",
    "\n",
    "i=0\n",
    "for root,subdirs,files in os.walk(source):\n",
    "    print(i)\n",
    "    #print('root',root)\n",
    "    #print('subdirs',subdirs)\n",
    "    #print('files',files)\n",
    "    for file in files:\n",
    "        path=os.path.join(root,file)\n",
    "        shutil.move(path,dest1)\n",
    "        i=i+1"
   ]
  },
  {
   "cell_type": "code",
   "execution_count": 5,
   "metadata": {},
   "outputs": [
    {
     "name": "stdout",
     "output_type": "stream",
     "text": [
      "1\n",
      "2\n",
      "3\n"
     ]
    }
   ],
   "source": [
    "import os\n",
    "path = r'E:/object detection/img/img/'\n",
    "i = 1\n",
    "for filename in os.listdir(path):\n",
    "    print(i)\n",
    "    os.rename(os.path.join(path,filename), os.path.join(path,'a'+str(i)+'.jpg'))\n",
    "    i = i +1"
   ]
  },
  {
   "cell_type": "code",
   "execution_count": 6,
   "metadata": {},
   "outputs": [],
   "source": [
    "from PIL import  Image\n",
    "import pytesseract "
   ]
  },
  {
   "cell_type": "code",
   "execution_count": 12,
   "metadata": {},
   "outputs": [
    {
     "name": "stdout",
     "output_type": "stream",
     "text": [
      "Python Tutorial\n",
      "Release 3.7.0\n",
      "\n",
      "Guido van Rossum\n",
      "and the Python development team\n",
      "\n",
      "September 02, 2018\n",
      "\n",
      "Python Software Foundation\n",
      "Email: docs@python.org\n",
      "\f",
      "\n"
     ]
    }
   ],
   "source": [
    "im=Image.open(r'E:/object detection/img/img/a1.jpg')\n",
    "text=pytesseract.image_to_string(im, lang=\"eng\")\n",
    "print(text)"
   ]
  },
  {
   "cell_type": "code",
   "execution_count": 8,
   "metadata": {},
   "outputs": [],
   "source": [
    "import cv2\n",
    "import numpy as np"
   ]
  },
  {
   "cell_type": "code",
   "execution_count": 10,
   "metadata": {},
   "outputs": [],
   "source": [
    "img = cv2.imread(r'E:/object detection/img/img/a3.jpg')\n",
    "gray = cv2.cvtColor(img, cv2.COLOR_BGR2GRAY)\n",
    "thresh = cv2.threshold(gray, 160, 255, cv2.THRESH_BINARY)[1]\n",
    "kernel = np.ones((5,5),np.uint8)\n",
    "kernel2 = np.ones((3,3),np.uint8)\n",
    "marker = cv2.dilate(thresh,kernel,iterations = 1)\n",
    "mask=cv2.erode(thresh,kernel,iterations = 1)\n",
    "\n",
    "while True:\n",
    "    tmp=marker.copy()\n",
    "    marker=cv2.erode(marker, kernel2)\n",
    "    marker=cv2.max(mask, marker)\n",
    "    difference = cv2.subtract(tmp, marker)\n",
    "    if cv2.countNonZero(difference) == 0:\n",
    "        break\n",
    "\n",
    "marker_color = cv2.cvtColor(marker, cv2.COLOR_GRAY2BGR)\n",
    "out=cv2.bitwise_or(img, marker_color)\n",
    "cv2.imwrite('out.jpg', out)\n",
    "cv2.imshow('result', out )"
   ]
  },
  {
   "cell_type": "code",
   "execution_count": null,
   "metadata": {},
   "outputs": [],
   "source": []
  }
 ],
 "metadata": {
  "kernelspec": {
   "display_name": "Python 3",
   "language": "python",
   "name": "python3"
  },
  "language_info": {
   "codemirror_mode": {
    "name": "ipython",
    "version": 3
   },
   "file_extension": ".py",
   "mimetype": "text/x-python",
   "name": "python",
   "nbconvert_exporter": "python",
   "pygments_lexer": "ipython3",
   "version": "3.6.10"
  }
 },
 "nbformat": 4,
 "nbformat_minor": 4
}
